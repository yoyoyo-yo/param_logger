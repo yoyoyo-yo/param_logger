{
 "cells": [
  {
   "cell_type": "code",
   "execution_count": 1,
   "id": "43287aaa-b621-40ef-8244-7925a8c61dae",
   "metadata": {},
   "outputs": [],
   "source": [
    "import param_logger.param_logger as plogger"
   ]
  },
  {
   "cell_type": "code",
   "execution_count": 2,
   "id": "255266fc-dac1-41d1-aaf7-9e8edc9646d5",
   "metadata": {},
   "outputs": [],
   "source": [
    "plog_config = plogger.ParamLoggerConfig('exp_v1', base_path='./')\n",
    "\n",
    "@plogger.plog_wrapper(plog_config)\n",
    "def func1(fold, x, plog):\n",
    "    plog.add_meta_info({'fold':fold, 'x':4, 'description':'this is test', 'time':'2021-7-31'})\n",
    "    plog.add_param('epoch', 0)\n",
    "    plog.update()\n",
    "    plog.add_param('epoch', 1)\n",
    "    plog.add_param('epoch', 2, update=True)\n",
    "\n",
    "    plog.add_params({'epoch':3, 'loss':0.2, 'accuracy':0.6, 'update':True})\n",
    "    plog.add_params({'epoch':4, 'loss':0.1, 'accuracy':0.8,})\n",
    "    plog.add_params({'epoch':5, 'loss':0.01, 'accuracy':0.6, 'lr':0.001, 'update':True})"
   ]
  },
  {
   "cell_type": "code",
   "execution_count": 3,
   "id": "f2495432-cc8a-4bb1-be60-fe08a4e2f15d",
   "metadata": {},
   "outputs": [
    {
     "name": "stdout",
     "output_type": "stream",
     "text": [
      "log >> ./exp_v1_log.csv\n"
     ]
    }
   ],
   "source": [
    "func1(fold=0, x=4)"
   ]
  },
  {
   "cell_type": "code",
   "execution_count": 4,
   "id": "59822865-b078-4821-9d7a-1247b797f537",
   "metadata": {},
   "outputs": [
    {
     "data": {
      "text/html": [
       "<div>\n",
       "<style scoped>\n",
       "    .dataframe tbody tr th:only-of-type {\n",
       "        vertical-align: middle;\n",
       "    }\n",
       "\n",
       "    .dataframe tbody tr th {\n",
       "        vertical-align: top;\n",
       "    }\n",
       "\n",
       "    .dataframe thead th {\n",
       "        text-align: right;\n",
       "    }\n",
       "</style>\n",
       "<table border=\"1\" class=\"dataframe\">\n",
       "  <thead>\n",
       "    <tr style=\"text-align: right;\">\n",
       "      <th></th>\n",
       "      <th>epoch</th>\n",
       "      <th>loss</th>\n",
       "      <th>accuracy</th>\n",
       "      <th>update</th>\n",
       "      <th>lr</th>\n",
       "      <th>meta_info</th>\n",
       "    </tr>\n",
       "  </thead>\n",
       "  <tbody>\n",
       "    <tr>\n",
       "      <th>0</th>\n",
       "      <td>0</td>\n",
       "      <td>NaN</td>\n",
       "      <td>NaN</td>\n",
       "      <td>NaN</td>\n",
       "      <td>NaN</td>\n",
       "      <td>{'fold': 0, 'x': 4, 'description': 'this is te...</td>\n",
       "    </tr>\n",
       "    <tr>\n",
       "      <th>1</th>\n",
       "      <td>2</td>\n",
       "      <td>NaN</td>\n",
       "      <td>NaN</td>\n",
       "      <td>NaN</td>\n",
       "      <td>NaN</td>\n",
       "      <td>NaN</td>\n",
       "    </tr>\n",
       "    <tr>\n",
       "      <th>2</th>\n",
       "      <td>3</td>\n",
       "      <td>0.20</td>\n",
       "      <td>0.6</td>\n",
       "      <td>True</td>\n",
       "      <td>NaN</td>\n",
       "      <td>NaN</td>\n",
       "    </tr>\n",
       "    <tr>\n",
       "      <th>3</th>\n",
       "      <td>4</td>\n",
       "      <td>0.10</td>\n",
       "      <td>0.8</td>\n",
       "      <td>NaN</td>\n",
       "      <td>NaN</td>\n",
       "      <td>NaN</td>\n",
       "    </tr>\n",
       "    <tr>\n",
       "      <th>4</th>\n",
       "      <td>5</td>\n",
       "      <td>0.01</td>\n",
       "      <td>0.6</td>\n",
       "      <td>True</td>\n",
       "      <td>0.001</td>\n",
       "      <td>NaN</td>\n",
       "    </tr>\n",
       "  </tbody>\n",
       "</table>\n",
       "</div>"
      ],
      "text/plain": [
       "   epoch  loss  accuracy update     lr  \\\n",
       "0      0   NaN       NaN    NaN    NaN   \n",
       "1      2   NaN       NaN    NaN    NaN   \n",
       "2      3  0.20       0.6   True    NaN   \n",
       "3      4  0.10       0.8    NaN    NaN   \n",
       "4      5  0.01       0.6   True  0.001   \n",
       "\n",
       "                                           meta_info  \n",
       "0  {'fold': 0, 'x': 4, 'description': 'this is te...  \n",
       "1                                                NaN  \n",
       "2                                                NaN  \n",
       "3                                                NaN  \n",
       "4                                                NaN  "
      ]
     },
     "execution_count": 4,
     "metadata": {},
     "output_type": "execute_result"
    }
   ],
   "source": [
    "import pandas as pd\n",
    "\n",
    "pd.read_csv('exp_v1_log.csv')"
   ]
  },
  {
   "cell_type": "code",
   "execution_count": null,
   "id": "ec39ee1e-1054-474e-b78d-0aa04b098612",
   "metadata": {},
   "outputs": [],
   "source": []
  }
 ],
 "metadata": {
  "kernelspec": {
   "display_name": "Python 3.9.4 ('py39')",
   "language": "python",
   "name": "python3"
  },
  "language_info": {
   "codemirror_mode": {
    "name": "ipython",
    "version": 3
   },
   "file_extension": ".py",
   "mimetype": "text/x-python",
   "name": "python",
   "nbconvert_exporter": "python",
   "pygments_lexer": "ipython3",
   "version": "3.9.12"
  },
  "vscode": {
   "interpreter": {
    "hash": "8d65b4f02d9cb75b30bba7242a5c8a894e5a943008bb743f581f41c09e21900c"
   }
  }
 },
 "nbformat": 4,
 "nbformat_minor": 5
}
