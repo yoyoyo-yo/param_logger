{
 "cells": [
  {
   "cell_type": "code",
   "execution_count": 1,
   "id": "43287aaa-b621-40ef-8244-7925a8c61dae",
   "metadata": {},
   "outputs": [],
   "source": [
    "import param_logger"
   ]
  },
  {
   "cell_type": "code",
   "execution_count": 2,
   "id": "e66640bd-0e78-4714-a0f1-0ce4c8becde3",
   "metadata": {},
   "outputs": [
    {
     "name": "stdout",
     "output_type": "stream",
     "text": [
      "ParamLogger output >> ./exp_v1_log.csv\n"
     ]
    }
   ],
   "source": [
    "plog = param_logger.ParamLogger('exp_v1', root_path='./')\n",
    "\n",
    "plog.add_meta_info({'fold':0, 'x':4, 'a':'a'})\n",
    "plog.add_param('epoch', 0)\n",
    "plog.update()\n",
    "plog.add_param('epoch', 1)\n",
    "plog.update()\n",
    "plog.add_param('epoch', 2, update=True)\n",
    "\n",
    "plog.add_params({'epoch':3, 'loss':0.2, 'accuracy':0.6, 'update':True})\n",
    "plog.add_params({'epoch':4, 'loss':0.1, 'accuracy':0.8,})\n",
    "plog.add_params({'epoch':5, 'loss':0.01, 'accuracy':0.6, 'lr':0.001, 'update':True})\n",
    "plog.add_meta_info({'aaa':'bbb'})\n",
    "plog.update()\n"
   ]
  },
  {
   "cell_type": "code",
   "execution_count": 3,
   "id": "42857949",
   "metadata": {},
   "outputs": [
    {
     "data": {
      "text/html": [
       "<div>\n",
       "<style scoped>\n",
       "    .dataframe tbody tr th:only-of-type {\n",
       "        vertical-align: middle;\n",
       "    }\n",
       "\n",
       "    .dataframe tbody tr th {\n",
       "        vertical-align: top;\n",
       "    }\n",
       "\n",
       "    .dataframe thead th {\n",
       "        text-align: right;\n",
       "    }\n",
       "</style>\n",
       "<table border=\"1\" class=\"dataframe\">\n",
       "  <thead>\n",
       "    <tr style=\"text-align: right;\">\n",
       "      <th></th>\n",
       "      <th>epoch</th>\n",
       "      <th>loss</th>\n",
       "      <th>accuracy</th>\n",
       "      <th>update</th>\n",
       "      <th>lr</th>\n",
       "      <th>meta_info</th>\n",
       "    </tr>\n",
       "  </thead>\n",
       "  <tbody>\n",
       "    <tr>\n",
       "      <th>0</th>\n",
       "      <td>0.0</td>\n",
       "      <td>NaN</td>\n",
       "      <td>NaN</td>\n",
       "      <td>NaN</td>\n",
       "      <td>NaN</td>\n",
       "      <td>{'fold': 0, 'x': 4, 'a': 'a', 'aaa': 'bbb'}</td>\n",
       "    </tr>\n",
       "    <tr>\n",
       "      <th>1</th>\n",
       "      <td>1.0</td>\n",
       "      <td>NaN</td>\n",
       "      <td>NaN</td>\n",
       "      <td>NaN</td>\n",
       "      <td>NaN</td>\n",
       "      <td>NaN</td>\n",
       "    </tr>\n",
       "    <tr>\n",
       "      <th>2</th>\n",
       "      <td>2.0</td>\n",
       "      <td>NaN</td>\n",
       "      <td>NaN</td>\n",
       "      <td>NaN</td>\n",
       "      <td>NaN</td>\n",
       "      <td>NaN</td>\n",
       "    </tr>\n",
       "    <tr>\n",
       "      <th>3</th>\n",
       "      <td>3.0</td>\n",
       "      <td>0.20</td>\n",
       "      <td>0.6</td>\n",
       "      <td>True</td>\n",
       "      <td>NaN</td>\n",
       "      <td>NaN</td>\n",
       "    </tr>\n",
       "    <tr>\n",
       "      <th>4</th>\n",
       "      <td>4.0</td>\n",
       "      <td>0.10</td>\n",
       "      <td>0.8</td>\n",
       "      <td>NaN</td>\n",
       "      <td>NaN</td>\n",
       "      <td>NaN</td>\n",
       "    </tr>\n",
       "    <tr>\n",
       "      <th>5</th>\n",
       "      <td>5.0</td>\n",
       "      <td>0.01</td>\n",
       "      <td>0.6</td>\n",
       "      <td>True</td>\n",
       "      <td>0.001</td>\n",
       "      <td>NaN</td>\n",
       "    </tr>\n",
       "    <tr>\n",
       "      <th>6</th>\n",
       "      <td>NaN</td>\n",
       "      <td>NaN</td>\n",
       "      <td>NaN</td>\n",
       "      <td>NaN</td>\n",
       "      <td>NaN</td>\n",
       "      <td>NaN</td>\n",
       "    </tr>\n",
       "  </tbody>\n",
       "</table>\n",
       "</div>"
      ],
      "text/plain": [
       "   epoch  loss  accuracy update     lr  \\\n",
       "0    0.0   NaN       NaN    NaN    NaN   \n",
       "1    1.0   NaN       NaN    NaN    NaN   \n",
       "2    2.0   NaN       NaN    NaN    NaN   \n",
       "3    3.0  0.20       0.6   True    NaN   \n",
       "4    4.0  0.10       0.8    NaN    NaN   \n",
       "5    5.0  0.01       0.6   True  0.001   \n",
       "6    NaN   NaN       NaN    NaN    NaN   \n",
       "\n",
       "                                     meta_info  \n",
       "0  {'fold': 0, 'x': 4, 'a': 'a', 'aaa': 'bbb'}  \n",
       "1                                          NaN  \n",
       "2                                          NaN  \n",
       "3                                          NaN  \n",
       "4                                          NaN  \n",
       "5                                          NaN  \n",
       "6                                          NaN  "
      ]
     },
     "execution_count": 3,
     "metadata": {},
     "output_type": "execute_result"
    }
   ],
   "source": [
    "import pandas as pd\n",
    "\n",
    "pd.read_csv('exp_v1_log.csv')"
   ]
  },
  {
   "cell_type": "code",
   "execution_count": 4,
   "id": "f7600a47-fec1-4c17-be2e-5113528ad6c8",
   "metadata": {},
   "outputs": [
    {
     "data": {
      "text/plain": [
       "0"
      ]
     },
     "execution_count": 4,
     "metadata": {},
     "output_type": "execute_result"
    }
   ],
   "source": [
    "len({})"
   ]
  },
  {
   "cell_type": "code",
   "execution_count": null,
   "id": "a53ef7a1",
   "metadata": {},
   "outputs": [],
   "source": []
  }
 ],
 "metadata": {
  "kernelspec": {
   "display_name": "Python 3 (ipykernel)",
   "language": "python",
   "name": "python3"
  },
  "language_info": {
   "codemirror_mode": {
    "name": "ipython",
    "version": 3
   },
   "file_extension": ".py",
   "mimetype": "text/x-python",
   "name": "python",
   "nbconvert_exporter": "python",
   "pygments_lexer": "ipython3",
   "version": "3.9.12"
  },
  "vscode": {
   "interpreter": {
    "hash": "8d65b4f02d9cb75b30bba7242a5c8a894e5a943008bb743f581f41c09e21900c"
   }
  }
 },
 "nbformat": 4,
 "nbformat_minor": 5
}
